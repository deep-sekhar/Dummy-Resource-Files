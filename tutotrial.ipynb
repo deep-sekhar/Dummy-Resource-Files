{
  "nbformat": 4,
  "nbformat_minor": 0,
  "metadata": {
    "colab": {
      "name": "tutotrial.ipynb",
      "provenance": [],
      "authorship_tag": "ABX9TyMC6Xs2tfCQF2T9WfNI5xtH",
      "include_colab_link": true
    },
    "kernelspec": {
      "name": "python3",
      "display_name": "Python 3"
    },
    "language_info": {
      "name": "python"
    }
  },
  "cells": [
    {
      "cell_type": "markdown",
      "metadata": {
        "id": "view-in-github",
        "colab_type": "text"
      },
      "source": [
        "<a href=\"https://colab.research.google.com/github/deep-sekhar/Dummy-Resource-Files/blob/main/tutotrial.ipynb\" target=\"_parent\"><img src=\"https://colab.research.google.com/assets/colab-badge.svg\" alt=\"Open In Colab\"/></a>"
      ]
    },
    {
      "cell_type": "code",
      "execution_count": 1,
      "metadata": {
        "id": "-j8qQRy9RmlE"
      },
      "outputs": [],
      "source": [
        "#ML tut"
      ]
    },
    {
      "cell_type": "code",
      "source": [
        ""
      ],
      "metadata": {
        "id": "eq2IfFSYTDFS"
      },
      "execution_count": null,
      "outputs": []
    }
  ]
}